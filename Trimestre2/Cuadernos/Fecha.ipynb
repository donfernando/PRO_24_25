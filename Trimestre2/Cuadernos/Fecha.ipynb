{
 "cells": [
  {
   "cell_type": "markdown",
   "metadata": {},
   "source": [
    "## Ejercicio: clase Fecha\n",
    "\n",
    "1. Crear una clase `Fecha` que represente una fecha con día, mes y año.\n",
    "2. La clase debe iniciarse por defecto la fecha al 1 de enero de 1970.\n",
    "3. Crear un método para incrementar la fecha en un día, teniendo en cuenta los años bisiestos.\n",
    "4. Implementar un método para incrementar la fecha en un número específico de días.\n",
    "5. Desarrollar métodos para comparar fechas: uno que verifique si dos fechas son iguales y otro que determine si una\n",
    "fecha es anterior, igual o posterior a otra.\n",
    "6. Incluir un método para mostrar la fecha en formato \"DD-MMM-AA\", donde MMM es la abreviatura de tres letras del\n",
    "mes en español.\n",
    "7. Utilizar un array para almacenar las abreviaturas de los meses en español.\n",
    "Implemente la clase `Fecha` en C# que cumpla con todos estos requisitos. La clase debe ser robusta, eficiente y fácil de\n",
    "usar en el contexto de una aplicación de calendario.\n",
    "\n",
    "Descripción de los elementos:\n",
    "1. Atributos:\n",
    "• Dia: int (privado) - Representa el día del mes.\n",
    "• Mes: int (privado) - Representa el mes del año.\n",
    "• Año: int (privado) - Representa el año.\n",
    "2. Métodos:\n",
    "• Incrementar(): void - Incrementa la fecha en un día.\n",
    "• Incrementar(i: int): void - Incrementa la fecha en i días.\n",
    "• Equals(f: Fecha): boolean - Compara si dos fechas son iguales.\n",
    "• CompareTo(f: Fecha): int - Compara dos fechas (-1 si es anterior, 0 si es igual, 1 si es posterior).\n",
    "• ToString(): String - Muestra la fecha en formato \"DD-MMM-AA\".\n",
    "• El diagrama no muestra la implementación interna de los métodos, solo su interfaz pública."
   ]
  },
  {
   "cell_type": "markdown",
   "metadata": {},
   "source": [
    "## Solucion:"
   ]
  },
  {
   "cell_type": "code",
   "execution_count": 2,
   "metadata": {
    "dotnet_interactive": {
     "language": "csharp"
    },
    "polyglot_notebook": {
     "kernelName": "csharp"
    },
    "vscode": {
     "languageId": "polyglot-notebook"
    }
   },
   "outputs": [],
   "source": [
    "public class Fecha {\n",
    "    public int dia {get; private set;}\n",
    "    public int mes {get; private set;}\n",
    "    public int anio {get; private set;}\n",
    "\n",
    "    // Array con las abreviaturas de los meses en español\n",
    "    private static readonly string[] meses = { \"Ene\", \"Feb\", \"Mar\", \"Abr\", \"May\", \"Jun\", \"Jul\", \"Ago\", \"Sep\", \"Oct\", \"Nov\", \"Dic\" };\n",
    "\n",
    "    // Constructor por defecto que inicializa la fecha al 1 de enero de 1970\n",
    "    public Fecha() {\n",
    "        dia = 1;\n",
    "        mes = 1;\n",
    "        anio = 1970;\n",
    "    }\n",
    "\n",
    "    // Constructor para inicializar la fecha con valores específicos\n",
    "    public Fecha(int dia, int mes, int anio):this() {\n",
    "        if(EsValida(dia,mes, anio)){\n",
    "            this.dia = dia;\n",
    "            this.mes = mes;\n",
    "            this.anio = anio;\n",
    "        } \n",
    "    }\n",
    "    // Método para incrementar la fecha en un día\n",
    "    public void Incrementar() {\n",
    "             // Incrementa el día\n",
    "            dia++;\n",
    "\n",
    "            // Verifica si el día es mayor que el número de días del mes actual\n",
    "            if (dia > DiasEnMes(mes, anio))\n",
    "            {\n",
    "                // Pasa al siguiente mes\n",
    "                dia = 1;\n",
    "                mes++;\n",
    "\n",
    "                // Si el mes es mayor que 12, pasa al siguiente año\n",
    "                if (mes > 12)\n",
    "                {\n",
    "                    mes = 1;\n",
    "                    anio++;\n",
    "                    if (anio == 0)\n",
    "                        anio=1;\n",
    "                }\n",
    "            }\n",
    "   }\n",
    "\n",
    "    // Método para incrementar la fecha en un número específico de días\n",
    "    public void Incrementar(int dias) {\n",
    "        for (int i = 0; i < dias; i++)\n",
    "            Incrementar();\n",
    "    }\n",
    "\n",
    "    // override object.Equals\n",
    "    public override bool Equals(object obj) {\n",
    "        if (obj == null || GetType() != obj.GetType())\n",
    "            return false;\n",
    "        Fecha otra = (Fecha) obj;\n",
    "        return dia==otra.dia && mes==otra.mes && anio==otra.anio ;\n",
    "    }\n",
    "    \n",
    "    // override object.GetHashCode\n",
    "    public override int GetHashCode() {\n",
    "        return (dia,mes,anio).GetHashCode();\n",
    "    }\n",
    "   \n",
    "    // ... para comparar dos fechas\n",
    "    // public int CompareTo(Fecha f) {\n",
    "    //     if (anio < f.anio) return -1;\n",
    "    //     else if (anio > f.anio) return 1;\n",
    "    //     else\n",
    "    //     {\n",
    "    //         if (mes < f.mes) return -1;\n",
    "    //         else if (mes > f.mes) return 1;\n",
    "    //         else\n",
    "    //         {\n",
    "    //             if (dia < f.dia) return -1;\n",
    "    //             else if (dia > f.dia) return 1;\n",
    "    //             else return 0;\n",
    "    //         }\n",
    "    //     }\n",
    "    // }\n",
    "\n",
    "    // Método para mostrar la fecha en formato \"DD-MMM-AA\"\n",
    "    public override string ToString() {\n",
    "        return $\"{dia:D2}-{meses[mes - 1]}-{anio % 100:D2}\";\n",
    "    }\n",
    "\n",
    "    // Método auxiliar para obtener el número de días en el mes actual\n",
    "    private static int DiasEnMes(int mes, int anio) {\n",
    "        if (mes == 2) {\n",
    "            // Verifica si el año es bisiesto\n",
    "            if (EsBisiesto(anio))\n",
    "                return 29;\n",
    "            else\n",
    "                return 28;\n",
    "        }\n",
    "        else if (mes == 4 || mes == 6 || mes == 9 || mes == 11)\n",
    "            return 30;\n",
    "        else\n",
    "            return 31;\n",
    "    }\n",
    "\n",
    "    // Método auxiliar para verificar si un año es bisiesto\n",
    "    private static bool EsBisiesto(int anio)  {\n",
    "        return (anio % 4 == 0 && anio % 100 != 0) || anio % 400 == 0;\n",
    "    }\n",
    "\n",
    "    private static bool EsValida(int dia, int mes, int anio)  {\n",
    "        return  dia>=1 && mes <= 12 && mes >=1 && anio != 0 && dia <= DiasEnMes(mes,anio);\n",
    "    } \n",
    "}"
   ]
  },
  {
   "cell_type": "markdown",
   "metadata": {},
   "source": [
    "## Ejemplo de uso de la clase Fecha"
   ]
  },
  {
   "cell_type": "code",
   "execution_count": 15,
   "metadata": {
    "dotnet_interactive": {
     "language": "csharp"
    },
    "polyglot_notebook": {
     "kernelName": "csharp"
    },
    "vscode": {
     "languageId": "polyglot-notebook"
    }
   },
   "outputs": [
    {
     "name": "stdout",
     "output_type": "stream",
     "text": [
      "Fecha inicial: 12-Ene-00\n",
      "Fecha después de incrementar un día: 13-Ene-00\n",
      "Fecha después de incrementar 32 días: 14-Feb-00\n",
      "Son iguales? False\n",
      "Comparación: 1\n"
     ]
    }
   ],
   "source": [
    "        Fecha fecha = new Fecha(12,1,2000);\n",
    "        Console.WriteLine(\"Fecha inicial: \" + fecha.ToString());\n",
    "\n",
    "        fecha.Incrementar();\n",
    "        Console.WriteLine(\"Fecha después de incrementar un día: \" + fecha.ToString());\n",
    "\n",
    "        fecha.Incrementar(32);\n",
    "        Console.WriteLine(\"Fecha después de incrementar 32 días: \" + fecha.ToString());\n",
    "\n",
    "        Fecha otraFecha = new Fecha(1, 1, 1970);\n",
    "        Console.WriteLine(\"Son iguales? \" + fecha.Equals(otraFecha));\n",
    "\n",
    "        Console.WriteLine(\"Comparación: \" + fecha.CompareTo(otraFecha));"
   ]
  },
  {
   "cell_type": "markdown",
   "metadata": {
    "vscode": {
     "languageId": "plaintext"
    }
   },
   "source": [
    "\n",
    "```mermaid\n",
    "classDiagram\n",
    "    class Fecha {\n",
    "        - dia: int\n",
    "        - mes: int\n",
    "        - anio: int\n",
    "        + Fecha()\n",
    "        + Fecha(dia: int, mes: int, anio: int)\n",
    "        + Incrementar(): void\n",
    "        + Incrementar(dias: int): void\n",
    "        + Equals(f: Fecha): bool\n",
    "        + CompareTo(f: Fecha): int\n",
    "        + ToString(): String\n",
    "        - DiasEnMes(): int\n",
    "        - EsBisiesto(): bool\n",
    "    }\n",
    "```\n",
    "\n",
    "\n"
   ]
  }
 ],
 "metadata": {
  "kernelspec": {
   "display_name": ".NET (C#)",
   "language": "C#",
   "name": ".net-csharp"
  },
  "language_info": {
   "name": "csharp"
  },
  "polyglot_notebook": {
   "kernelInfo": {
    "defaultKernelName": "csharp",
    "items": [
     {
      "aliases": [],
      "name": "csharp"
     }
    ]
   }
  }
 },
 "nbformat": 4,
 "nbformat_minor": 2
}
