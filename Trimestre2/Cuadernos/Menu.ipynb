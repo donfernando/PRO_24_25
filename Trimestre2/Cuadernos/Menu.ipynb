{
 "cells": [
  {
   "cell_type": "markdown",
   "metadata": {},
   "source": [
    "```mermaid\n",
    "classDiagram\n",
    "    class Menu {\n",
    "        -Opcion[] opciones\n",
    "        -int numOpciones\n",
    "        -int opcionActiva\n",
    "        -bool yaMostrado\n",
    "        +void mostrar()\n",
    "        +void añadir(String s)\n",
    "        +int leer()\n",
    "        -void siguiente()\n",
    "        -void anterior()\n",
    "    }\n",
    "    class Opcion {\n",
    "        +bool resaltado\n",
    "        -String frase\n",
    "        +Opcion(String f)\n",
    "        +String toString()\n",
    "    }\n",
    "    class MenuException {\n",
    "        +MenuException()\n",
    "        +MenuException(String e)\n",
    "    }\n",
    "    Menu \"1\" *-- \"0..10\" Opcion\n",
    "    Menu ..> MenuException : throws\n",
    "    Opcion ..> MenuException : throws\n",
    "```"
   ]
  },
  {
   "cell_type": "markdown",
   "metadata": {},
   "source": [
    "."
   ]
  }
 ],
 "metadata": {
  "language_info": {
   "name": "csharp"
  }
 },
 "nbformat": 4,
 "nbformat_minor": 2
}
