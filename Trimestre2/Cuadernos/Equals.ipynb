{
 "cells": [
  {
   "cell_type": "markdown",
   "metadata": {},
   "source": [
    "### Utilidad de la función `Equals` en C#\n",
    "\n",
    "La función `Equals` en C# es un método fundamental para comparar dos objetos o valores y determinar si son **iguales**. Es parte de la clase base `object`, de la cual todas las clases en C# derivan directa o indirectamente. Su principal utilidad es proporcionar una forma estándar de comparar objetos, ya sea por **referencia** (por defecto) o por **valor** (cuando se sobrescribe en clases personalizadas).\n",
    "\n",
    "#### ¿Por qué es importante?\n",
    "- **Comparación de objetos**: Permite determinar si dos objetos son iguales en términos de su contenido o referencia.\n",
    "- **Sobrescritura personalizada**: Puedes definir cómo se comparan los objetos de una clase específica, lo que es útil para comparar propiedades o campos internos.\n",
    "- **Uso en colecciones**: Es esencial para el correcto funcionamiento de colecciones como `List`, `Dictionary`, o `HashSet`, que dependen de `Equals` para buscar, agregar o eliminar elementos.\n",
    "\n",
    "---\n",
    "\n",
    "### Cómo se usa `Equals`\n",
    "\n",
    "#### 1. **Uso básico (comparación por referencia)**\n",
    "Por defecto, `Equals` compara si dos objetos son la **misma instancia** (es decir, si apuntan a la misma ubicación en memoria)."
   ]
  },
  {
   "cell_type": "code",
   "execution_count": 1,
   "metadata": {
    "dotnet_interactive": {
     "language": "csharp"
    },
    "polyglot_notebook": {
     "kernelName": "csharp"
    },
    "vscode": {
     "languageId": "polyglot-notebook"
    }
   },
   "outputs": [
    {
     "name": "stdout",
     "output_type": "stream",
     "text": [
      "True\n",
      "False\n",
      "False\n"
     ]
    }
   ],
   "source": [
    "object obj1 = new object();\n",
    "object obj2 = obj1;\n",
    "object obj3 = new object();\n",
    "\n",
    "Console.WriteLine(obj1.Equals(obj2)); // true, porque obj1 y obj2 son la misma instancia\n",
    "Console.WriteLine(obj1==obj3); // false, porque obj1 y obj3 son distintas instancias\n",
    "Console.WriteLine(obj1.Equals(obj3)); // false, porque obj1 y obj3 son distintas instancias"
   ]
  },
  {
   "cell_type": "markdown",
   "metadata": {},
   "source": [
    "\n",
    "#### 2. **Comparación de valores**\n",
    "Para tipos de valor (como `int`, `double`, `struct`), `Equals` compara los valores directamente.\n",
    "\n"
   ]
  },
  {
   "cell_type": "code",
   "execution_count": 2,
   "metadata": {
    "dotnet_interactive": {
     "language": "csharp"
    },
    "polyglot_notebook": {
     "kernelName": "csharp"
    },
    "vscode": {
     "languageId": "polyglot-notebook"
    }
   },
   "outputs": [
    {
     "name": "stdout",
     "output_type": "stream",
     "text": [
      "True\n",
      "True\n"
     ]
    }
   ],
   "source": [
    "int a = 5;\n",
    "int b = 5;\n",
    "Console.WriteLine(a.Equals(b)); // true, porque los valores son iguales\n",
    "Console.WriteLine(a == b); // true, porque los valores son iguales"
   ]
  },
  {
   "cell_type": "markdown",
   "metadata": {},
   "source": [
    "\n",
    "#### 3. **Sobrescritura de `Equals` en clases personalizadas**\n",
    "Todas las clases disponen del método `Equals` porque lo heredan de la clase base `object`.<br/>\n",
    "Pero su implementación original se limita a comparar las referencias de los objetos comparados."
   ]
  },
  {
   "cell_type": "code",
   "execution_count": 15,
   "metadata": {
    "dotnet_interactive": {
     "language": "csharp"
    },
    "polyglot_notebook": {
     "kernelName": "csharp"
    },
    "vscode": {
     "languageId": "polyglot-notebook"
    }
   },
   "outputs": [],
   "source": [
    "public class Persona {\n",
    "    public string Nombre { get; set; }\n",
    "    public int Edad { get; set; }\n",
    "    \n",
    "}"
   ]
  },
  {
   "cell_type": "code",
   "execution_count": 21,
   "metadata": {
    "dotnet_interactive": {
     "language": "csharp"
    },
    "polyglot_notebook": {
     "kernelName": "csharp"
    },
    "vscode": {
     "languageId": "polyglot-notebook"
    }
   },
   "outputs": [
    {
     "name": "stdout",
     "output_type": "stream",
     "text": [
      "True\n",
      "True\n",
      "Juan\n",
      "Juan\n",
      "Ana\n",
      "True\n",
      "True\n"
     ]
    }
   ],
   "source": [
    "Persona persona1 = new Persona { Nombre = \"Juan\", Edad = 30 };\n",
    "Persona persona_x = persona1;\n",
    "Persona persona2 = new Persona { Nombre = \"Juan\", Edad = 30 };\n",
    "Console.WriteLine(persona1.Equals(persona2)); // false, Equals es el original heredado de object\n",
    "Console.WriteLine(persona1.Equals(persona_x));\n",
    "\n",
    "List<Persona> lista = new List<Persona>();\n",
    "lista.Add(persona1);\n",
    "lista.Add(persona2);\n",
    "lista.Add(new Persona { Nombre = \"Ana\", Edad = 22 });\n",
    "foreach(Persona p in lista)\n",
    "   Console.WriteLine(p.Nombre);\n",
    "Console.WriteLine(lista.Contains(persona1));\n",
    "Console.WriteLine(lista.Contains(new Persona { Nombre = \"Juan\", Edad = 30 }));"
   ]
  },
  {
   "cell_type": "markdown",
   "metadata": {},
   "source": [
    "En clases personalizadas, puedes sobrescribir el método `Equals` para comparar objetos basados en sus propiedades o campos internos."
   ]
  },
  {
   "cell_type": "code",
   "execution_count": 25,
   "metadata": {
    "dotnet_interactive": {
     "language": "csharp"
    },
    "polyglot_notebook": {
     "kernelName": "csharp"
    },
    "vscode": {
     "languageId": "polyglot-notebook"
    }
   },
   "outputs": [],
   "source": [
    "public class Persona {\n",
    "    public string Nombre { get; set; }\n",
    "    public int Edad { get; set; }\n",
    "\n",
    "    public override bool Equals(object obj) {\n",
    "        if (obj == null || GetType() != obj.GetType())\n",
    "            return false;\n",
    "        Persona otraPersona = (Persona)obj;\n",
    "        return this.Nombre == otraPersona.Nombre && Edad == otraPersona.Edad;\n",
    "    }\n",
    "    public override int GetHashCode() {\n",
    "        return HashCode.Combine(Nombre, Edad);\n",
    "    }\n",
    "    public override string ToString() {\n",
    "        return $\"Me llamo {Nombre} y tengo {Edad} años.\";\n",
    "    }\n",
    "\n",
    "}"
   ]
  },
  {
   "cell_type": "markdown",
   "metadata": {},
   "source": [
    "**Uso:**"
   ]
  },
  {
   "cell_type": "code",
   "execution_count": 27,
   "metadata": {
    "dotnet_interactive": {
     "language": "csharp"
    },
    "polyglot_notebook": {
     "kernelName": "csharp"
    },
    "vscode": {
     "languageId": "polyglot-notebook"
    }
   },
   "outputs": [
    {
     "name": "stdout",
     "output_type": "stream",
     "text": [
      "True\n",
      "1.- Me llamo Juan y tengo 30 años.\n"
     ]
    }
   ],
   "source": [
    "Persona persona1 = new Persona { Nombre = \"Juan\", Edad = 30 };\n",
    "Persona persona2 = new Persona { Nombre = \"Juan\", Edad = 30 };\n",
    "Console.WriteLine(persona1.Equals(persona2)); // true, porque Nombre y Edad son iguales\n",
    "Console.WriteLine(\"1.- \"+persona1);"
   ]
  },
  {
   "cell_type": "markdown",
   "metadata": {},
   "source": [
    "#### 4. **Comparación con `==` vs `Equals`**\n",
    "- `==`: Es un operador que puede ser sobrescrito. Por defecto, compara referencias para objetos y valores para tipos primitivos.\n",
    "- `Equals`: Es un método que puede ser sobrescrito para personalizar la comparación."
   ]
  },
  {
   "cell_type": "code",
   "execution_count": null,
   "metadata": {
    "dotnet_interactive": {
     "language": "csharp"
    },
    "polyglot_notebook": {
     "kernelName": "csharp"
    },
    "vscode": {
     "languageId": "polyglot-notebook"
    }
   },
   "outputs": [],
   "source": [
    "Console.WriteLine(persona1==persona2); // false, porque el operador == (por defecto compara) la referencias\n",
    "string a = \"hola\";\n",
    "string b = \"hola\";\n",
    "Console.WriteLine(a == b); // true, porque la clase String sobrecarga el operador ==\n",
    "Console.WriteLine(a.Equals(b)); // true, porque la clase String sobreescribe el método Equals(object ...)"
   ]
  },
  {
   "cell_type": "markdown",
   "metadata": {},
   "source": [
    "\n",
    "---\n",
    "\n",
    "### Buenas prácticas al usar `Equals`\n",
    "\n",
    "1. **Sobrescribe `GetHashCode` cuando sobrescribas `Equals`**:\n",
    "   - Si dos objetos son iguales según `Equals`, deben devolver el mismo valor de `GetHashCode`.\n",
    "   - Esto es crucial para el correcto funcionamiento de colecciones como `Dictionary` o `HashSet`.\n",
    "\n",
    "2. **Maneja valores nulos**:\n",
    "   - Siempre verifica si el objeto pasado a `Equals` es `null`.\n",
    "\n",
    "3. **Compara tipos**:\n",
    "   - Asegúrate de que el objeto pasado sea del mismo tipo que la clase actual antes de realizar la comparación.\n",
    "\n",
    "---\n",
    "\n",
    "### Ejemplo completo"
   ]
  },
  {
   "cell_type": "code",
   "execution_count": 28,
   "metadata": {
    "dotnet_interactive": {
     "language": "csharp"
    },
    "polyglot_notebook": {
     "kernelName": "csharp"
    },
    "vscode": {
     "languageId": "polyglot-notebook"
    }
   },
   "outputs": [],
   "source": [
    "public class Producto {\n",
    "    public int Id { get; private set; }\n",
    "    public string Nombre { get; private set; }\n",
    "    public Producto(int Id, string Nombre){\n",
    "        this.Id = Id;\n",
    "        this.Nombre = Nombre;\n",
    "    }\n",
    "\n",
    "    public override bool Equals(object obj) {\n",
    "        if (obj == null || !(obj is Producto))\n",
    "            return false;\n",
    "        Producto otro = (Producto) obj;\n",
    "        return Id == otro.Id && Nombre == otro.Nombre;\n",
    "    }\n",
    "    public override int GetHashCode() {\n",
    "        return HashCode.Combine(Id, Nombre);\n",
    "    }\n",
    "}"
   ]
  },
  {
   "cell_type": "markdown",
   "metadata": {},
   "source": [
    "**Uso:**"
   ]
  },
  {
   "cell_type": "code",
   "execution_count": null,
   "metadata": {
    "dotnet_interactive": {
     "language": "csharp"
    },
    "polyglot_notebook": {
     "kernelName": "csharp"
    },
    "vscode": {
     "languageId": "polyglot-notebook"
    }
   },
   "outputs": [],
   "source": [
    "Producto producto1 = new Producto(1,\"Laptop\");\n",
    "Producto producto2 = new Producto(1,\"Laptop\");\n",
    "Console.WriteLine(producto1.Equals(producto2)); // true"
   ]
  },
  {
   "cell_type": "code",
   "execution_count": 31,
   "metadata": {
    "dotnet_interactive": {
     "language": "csharp"
    },
    "polyglot_notebook": {
     "kernelName": "csharp"
    },
    "vscode": {
     "languageId": "polyglot-notebook"
    }
   },
   "outputs": [
    {
     "name": "stdout",
     "output_type": "stream",
     "text": [
      "True\n",
      "True\n"
     ]
    }
   ],
   "source": [
    "Producto p = new Producto(12,\"Don Limpio\");\n",
    "Console.WriteLine(p is Object);\n",
    "Console.WriteLine(\"Hola\" is Object);"
   ]
  },
  {
   "cell_type": "markdown",
   "metadata": {},
   "source": [
    "---\n",
    "### Resumen\n",
    "\n",
    "- `Equals` es esencial para comparar objetos en C#.\n",
    "- Por defecto, compara referencias, pero puede ser sobrescrito para comparar valores o propiedades.\n",
    "- Siempre se deb sobrescribir `GetHashCode` cuando sobrescribas `Equals`.\n",
    "- Usa `Equals` en lugar de `==` cuando necesites un comparar objetos."
   ]
  }
 ],
 "metadata": {
  "kernelspec": {
   "display_name": ".NET (C#)",
   "language": "C#",
   "name": ".net-csharp"
  },
  "language_info": {
   "name": "csharp"
  },
  "polyglot_notebook": {
   "kernelInfo": {
    "defaultKernelName": "csharp",
    "items": [
     {
      "aliases": [],
      "name": "csharp"
     }
    ]
   }
  }
 },
 "nbformat": 4,
 "nbformat_minor": 2
}
