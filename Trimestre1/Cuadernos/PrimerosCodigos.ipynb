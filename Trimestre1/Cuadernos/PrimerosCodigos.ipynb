{
 "cells": [
  {
   "cell_type": "markdown",
   "metadata": {},
   "source": [
    "Declaraciones"
   ]
  },
  {
   "cell_type": "code",
   "execution_count": 1,
   "metadata": {
    "dotnet_interactive": {
     "language": "csharp"
    },
    "polyglot_notebook": {
     "kernelName": "csharp"
    },
    "vscode": {
     "languageId": "polyglot-notebook"
    }
   },
   "outputs": [],
   "source": [
    "int edad;\n",
    "int n1,n2;"
   ]
  },
  {
   "cell_type": "markdown",
   "metadata": {},
   "source": [
    "# Incremento/Decremento"
   ]
  },
  {
   "cell_type": "code",
   "execution_count": 5,
   "metadata": {
    "dotnet_interactive": {
     "language": "csharp"
    },
    "polyglot_notebook": {
     "kernelName": "csharp"
    },
    "vscode": {
     "languageId": "polyglot-notebook"
    }
   },
   "outputs": [
    {
     "name": "stdout",
     "output_type": "stream",
     "text": [
      "Edad más uno: 13\n",
      "Edad: 12\n"
     ]
    }
   ],
   "source": [
    "edad = 12;\n",
    "//edad = edad + 1;\n",
    "Console.WriteLine(\"Edad más uno: \"+ (edad+1));\n",
    "Console.WriteLine(\"Edad: \"+edad);"
   ]
  },
  {
   "cell_type": "code",
   "execution_count": 4,
   "metadata": {
    "dotnet_interactive": {
     "language": "csharp"
    },
    "polyglot_notebook": {
     "kernelName": "csharp"
    },
    "vscode": {
     "languageId": "polyglot-notebook"
    }
   },
   "outputs": [
    {
     "name": "stdout",
     "output_type": "stream",
     "text": [
      "Edad: 13\n",
      "n1: 26\n",
      "Edad: 13\n",
      "n2: 25\n"
     ]
    }
   ],
   "source": [
    "edad = 12;\n",
    "n1 = (++edad)+edad;\n",
    "Console.WriteLine(\"Edad: \"+edad);\n",
    "Console.WriteLine(\"n1: \"+n1);\n",
    "\n",
    "edad = 12;\n",
    "n2 = (edad++)+edad;\n",
    "Console.WriteLine(\"Edad: \"+edad);\n",
    "Console.WriteLine(\"n2: \"+n2);"
   ]
  },
  {
   "cell_type": "code",
   "execution_count": 4,
   "metadata": {
    "dotnet_interactive": {
     "language": "csharp"
    },
    "polyglot_notebook": {
     "kernelName": "csharp"
    },
    "vscode": {
     "languageId": "polyglot-notebook"
    }
   },
   "outputs": [
    {
     "name": "stdout",
     "output_type": "stream",
     "text": [
      "Edad: 12\r\n"
     ]
    }
   ],
   "source": [
    "edad = 12;\n",
    "// ++edad;\n",
    "// edad++;\n",
    "edad = edad++;\n",
    "\n",
    "Console.WriteLine(\"Edad: \"+edad);"
   ]
  }
 ],
 "metadata": {
  "kernelspec": {
   "display_name": ".NET (C#)",
   "language": "C#",
   "name": ".net-csharp"
  },
  "language_info": {
   "name": "csharp"
  },
  "polyglot_notebook": {
   "kernelInfo": {
    "defaultKernelName": "csharp",
    "items": [
     {
      "aliases": [],
      "name": "csharp"
     }
    ]
   }
  }
 },
 "nbformat": 4,
 "nbformat_minor": 2
}
