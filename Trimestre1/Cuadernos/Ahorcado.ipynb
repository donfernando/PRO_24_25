{
 "cells": [
  {
   "cell_type": "code",
   "execution_count": 5,
   "metadata": {
    "dotnet_interactive": {
     "language": "csharp"
    },
    "polyglot_notebook": {
     "kernelName": "csharp"
    },
    "vscode": {
     "languageId": "polyglot-notebook"
    }
   },
   "outputs": [
    {
     "name": "stdout",
     "output_type": "stream",
     "text": [
      "O------\n",
      "|   |\n",
      "|\n",
      "|\n",
      "|\n",
      "|\n",
      "----------------\n",
      "O------\n",
      "|   |\n",
      "|   @\n",
      "|\n",
      "|\n",
      "|\n",
      "----------------\n"
     ]
    }
   ],
   "source": [
    "int i,j;\n",
    "// char [,] horca = {\n",
    "//     {'x','c'},\n",
    "//     {'a','s'}\n",
    "// };\n",
    "char [][] horca = {\n",
    "     \"O------\".ToCharArray(),\n",
    "     \"|   |\".ToCharArray(),\n",
    "     \"|\".ToCharArray(),\n",
    "     \"|\".ToCharArray(),\n",
    "     \"|\".ToCharArray(),\n",
    "     \"|\".ToCharArray(),\n",
    "     \"----------------\".ToCharArray(),\n",
    "     \n",
    "};\n",
    "for(i=0; i<horca.Length;i++){\n",
    "    for(j=0; j<horca[i].Length;j++)\n",
    "        Console.Write(horca[i][j]);\n",
    "    Console.WriteLine();\n",
    "}\n",
    "horca[2] = \"|   @\".ToCharArray();\n",
    "for(i=0; i<horca.Length;i++){\n",
    "    for(j=0; j<horca[i].Length;j++)\n",
    "        Console.Write(horca[i][j]);\n",
    "    Console.WriteLine();\n",
    "}\n"
   ]
  }
 ],
 "metadata": {
  "kernelspec": {
   "display_name": ".NET (C#)",
   "language": "C#",
   "name": ".net-csharp"
  },
  "language_info": {
   "file_extension": ".cs",
   "mimetype": "text/x-csharp",
   "name": "C#",
   "pygments_lexer": "csharp",
   "version": "11.0"
  },
  "polyglot_notebook": {
   "kernelInfo": {
    "defaultKernelName": "csharp",
    "items": [
     {
      "aliases": [],
      "languageName": "csharp",
      "name": "csharp"
     }
    ]
   }
  }
 },
 "nbformat": 4,
 "nbformat_minor": 2
}
