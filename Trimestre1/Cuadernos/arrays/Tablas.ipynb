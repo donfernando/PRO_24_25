{
 "cells": [
  {
   "cell_type": "code",
   "execution_count": 2,
   "metadata": {
    "dotnet_interactive": {
     "language": "csharp"
    },
    "polyglot_notebook": {
     "kernelName": "csharp"
    },
    "vscode": {
     "languageId": "polyglot-notebook"
    }
   },
   "outputs": [
    {
     "name": "stdout",
     "output_type": "stream",
     "text": [
      "2000 es Bisiesto\r\n"
     ]
    }
   ],
   "source": [
    "bool esBisiesto;\n",
    "int año = 2000;\n",
    "esBisiesto = año % 4 == 0 && año % 100 != 0 || año % 400 == 0;\n",
    "if(esBisiesto)\n",
    "    Console.WriteLine($\"{año} es Bisiesto\");\n",
    "else\n",
    "    Console.WriteLine($\"{año} NO es Bisiesto\");\n"
   ]
  },
  {
   "cell_type": "code",
   "execution_count": 1,
   "metadata": {
    "dotnet_interactive": {
     "language": "csharp"
    },
    "polyglot_notebook": {
     "kernelName": "csharp"
    },
    "vscode": {
     "languageId": "polyglot-notebook"
    }
   },
   "outputs": [
    {
     "name": "stdout",
     "output_type": "stream",
     "text": [
      "Enero tiene 31 días\n",
      "Febrero tiene 28 días\n",
      "Marzo tiene 31 días\n",
      "Abril tiene 30 días\n",
      "Mayo tiene 31 días\n",
      "Junio tiene 30 días\n",
      "Julio tiene 31 días\n",
      "Agosto tiene 31 días\n",
      "Septiembre tiene 30 días\n",
      "Octubre tiene 31 días\n",
      "Noviembre tiene 30 días\n",
      "Diciembre tiene 31 días\n"
     ]
    }
   ],
   "source": [
    "int[] diasMes = {31, 28, 31, 30, 31, 30, 31, 31, 30, 31, 30, 31};\n",
    "string[] nombreMes = {\"Enero\", \"Febrero\", \"Marzo\", \"Abril\", \"Mayo\", \"Junio\", \n",
    "                      \"Julio\", \"Agosto\", \"Septiembre\", \"Octubre\", \"Noviembre\", \"Diciembre\"};\n",
    "\n",
    "for (int i = 0; i < 12; i++) {\n",
    "Console.WriteLine($\"{nombreMes[i]} tiene {diasMes[i]} días\");\n",
    "}"
   ]
  },
  {
   "cell_type": "code",
   "execution_count": null,
   "metadata": {
    "dotnet_interactive": {
     "language": "csharp"
    },
    "polyglot_notebook": {
     "kernelName": "csharp"
    },
    "vscode": {
     "languageId": "polyglot-notebook"
    }
   },
   "outputs": [
    {
     "name": "stdout",
     "output_type": "stream",
     "text": [
      "2\n",
      "4\n",
      "Ingresos y Gastos\n",
      "   1.00     2.00     3.00     4.00  \n",
      "  -5.00    -6.00    -7.00    -8.00  \n"
     ]
    }
   ],
   "source": [
    "        float[,] Ingresos_Gastos;\n",
    "        int f, c;\n",
    "        //Ingresos_Gastos = new float [2,4];\n",
    "        Ingresos_Gastos = new float[,] { { 1, 2, 3, 4},\n",
    "                                         {-5,-6,-7,-8}\n",
    "                                       };\n",
    "        Console.WriteLine(Ingresos_Gastos.GetLength(0));\n",
    "        Console.WriteLine(Ingresos_Gastos.GetLength(1));\n",
    "\n",
    "        Console.WriteLine(\"Ingresos y Gastos\");\n",
    "        for (f = 0; f < Ingresos_Gastos.GetLength(0); f++){\n",
    "            for (c = 0; c < Ingresos_Gastos.GetLength(1); c++)\n",
    "            {\n",
    "                //Console.WriteLine($\"[{f},{c}]\");\n",
    "                Console.Write($\"{Ingresos_Gastos[f, c],7:0.00}  \");\n",
    "            }\n",
    "            Console.WriteLine();\n",
    "        }\n",
    "\n",
    "        Console.WriteLine(\"Ingresos\");\n",
    "        for (c = 0; c < Ingresos_Gastos.GetLength(1); c++)\n",
    "            {\n",
    "                //Console.WriteLine($\"[{f},{c}]\");\n",
    "                Console.Write(Ingresos_Gastos[0, c]+\"  \");\n",
    "            }\n",
    "        Console.WriteLine();\n",
    "\n",
    "        Console.WriteLine(\"I/G del 3er Trimestre\");\n",
    "        for (f = 0; f < Ingresos_Gastos.GetLength(0); f++){\n",
    "            Console.Write(Ingresos_Gastos[f, 2]+\"  \");\n",
    "        }\n",
    "        Console.WriteLine();\n"
   ]
  }
 ],
 "metadata": {
  "kernelspec": {
   "display_name": ".NET (C#)",
   "language": "C#",
   "name": ".net-csharp"
  },
  "language_info": {
   "file_extension": ".cs",
   "mimetype": "text/x-csharp",
   "name": "C#",
   "pygments_lexer": "csharp",
   "version": "11.0"
  },
  "polyglot_notebook": {
   "kernelInfo": {
    "defaultKernelName": "csharp",
    "items": [
     {
      "aliases": [],
      "languageName": "csharp",
      "name": "csharp"
     }
    ]
   }
  }
 },
 "nbformat": 4,
 "nbformat_minor": 2
}
