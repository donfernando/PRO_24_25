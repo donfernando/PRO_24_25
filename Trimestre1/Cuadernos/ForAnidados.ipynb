{
 "cells": [
  {
   "cell_type": "code",
   "execution_count": 6,
   "metadata": {
    "dotnet_interactive": {
     "language": "csharp"
    },
    "polyglot_notebook": {
     "kernelName": "csharp"
    },
    "vscode": {
     "languageId": "polyglot-notebook"
    }
   },
   "outputs": [
    {
     "name": "stdout",
     "output_type": "stream",
     "text": [
      "...\n",
      "00 ----- 0\n",
      "01 ----- 1\n",
      "02 ----- 2\n",
      "03 ----- 3\n",
      "04 ----- 4\n",
      "05 ----- 5\n",
      "06 ----- 6\n",
      "07 ----- 7\n",
      "---\n",
      "...\n",
      "10 ----- 8\n",
      "11 ----- 9\n",
      "12 ----- 10\n",
      "13 ----- 11\n",
      "14 ----- 12\n",
      "15 ----- 13\n",
      "16 ----- 14\n",
      "17 ----- 15\n",
      "---\n",
      "...\n",
      "20 ----- 16\n",
      "21 ----- 17\n",
      "22 ----- 18\n",
      "23 ----- 19\n",
      "24 ----- 20\n",
      "25 ----- 21\n",
      "26 ----- 22\n",
      "27 ----- 23\n",
      "---\n",
      "...\n",
      "30 ----- 24\n",
      "31 ----- 25\n",
      "32 ----- 26\n",
      "33 ----- 27\n",
      "34 ----- 28\n",
      "35 ----- 29\n",
      "36 ----- 30\n",
      "37 ----- 31\n",
      "---\n",
      "...\n",
      "40 ----- 32\n",
      "41 ----- 33\n",
      "42 ----- 34\n",
      "43 ----- 35\n",
      "44 ----- 36\n",
      "45 ----- 37\n",
      "46 ----- 38\n",
      "47 ----- 39\n",
      "---\n",
      "...\n",
      "50 ----- 40\n",
      "51 ----- 41\n",
      "52 ----- 42\n",
      "53 ----- 43\n",
      "54 ----- 44\n",
      "55 ----- 45\n",
      "56 ----- 46\n",
      "57 ----- 47\n",
      "---\n",
      "...\n",
      "60 ----- 48\n",
      "61 ----- 49\n",
      "62 ----- 50\n",
      "63 ----- 51\n",
      "64 ----- 52\n",
      "65 ----- 53\n",
      "66 ----- 54\n",
      "67 ----- 55\n",
      "---\n",
      "...\n",
      "70 ----- 56\n",
      "71 ----- 57\n",
      "72 ----- 58\n",
      "73 ----- 59\n",
      "74 ----- 60\n",
      "75 ----- 61\n",
      "76 ----- 62\n",
      "77 ----- 63\n",
      "---\n"
     ]
    }
   ],
   "source": [
    "int octenas,unidades;\n",
    "int valor=0;\n",
    "for(octenas=0;octenas<=7;octenas++)\n",
    "    for(unidades=0;unidades<=7;unidades++,valor++)\n",
    "        Console.WriteLine($\"{octenas}{unidades} ----- {valor}\");"
   ]
  },
  {
   "cell_type": "code",
   "execution_count": null,
   "metadata": {
    "vscode": {
     "languageId": "polyglot-notebook"
    }
   },
   "outputs": [],
   "source": [
    "int octenas,unidades;\n",
    "int valor=0;\n",
    "for(octenas=0;octenas<=7;octenas++){\n",
    "    Console.WriteLine(\"...\");\n",
    "    unidades=0;\n",
    "    while(unidades<=7){\n",
    "        Console.WriteLine($\"{octenas}{unidades} ----- {valor}\");\n",
    "        \n",
    "        unidades++;\n",
    "        valor++;\n",
    "    }\n",
    "    Console.WriteLine(\"---\");\n",
    "}"
   ]
  }
 ],
 "metadata": {
  "kernelspec": {
   "display_name": ".NET (C#)",
   "language": "C#",
   "name": ".net-csharp"
  },
  "language_info": {
   "file_extension": ".cs",
   "mimetype": "text/x-csharp",
   "name": "C#",
   "pygments_lexer": "csharp",
   "version": "11.0"
  },
  "polyglot_notebook": {
   "kernelInfo": {
    "defaultKernelName": "csharp",
    "items": [
     {
      "aliases": [],
      "languageName": "csharp",
      "name": "csharp"
     }
    ]
   }
  }
 },
 "nbformat": 4,
 "nbformat_minor": 2
}
