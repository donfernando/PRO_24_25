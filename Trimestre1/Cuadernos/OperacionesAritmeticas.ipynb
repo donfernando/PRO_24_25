{
 "cells": [
  {
   "cell_type": "code",
   "execution_count": 9,
   "metadata": {
    "dotnet_interactive": {
     "language": "csharp"
    },
    "polyglot_notebook": {
     "kernelName": "csharp"
    },
    "vscode": {
     "languageId": "polyglot-notebook"
    }
   },
   "outputs": [
    {
     "name": "stdout",
     "output_type": "stream",
     "text": [
      "17\n",
      "7\n",
      "60\n",
      "2\n",
      "2.8\n",
      "4\n",
      "--------------\n",
      "3\n",
      "3\n",
      "12\n",
      "51\n"
     ]
    }
   ],
   "source": [
    "Console.WriteLine(12 + 5);\n",
    "Console.WriteLine(12 - 5);\n",
    "Console.WriteLine(12 * 5);\n",
    "Console.WriteLine(14 / 5);\n",
    "Console.WriteLine(14.0 / 5);\n",
    "Console.WriteLine(14 % 5);\n",
    "Console.WriteLine(\"--------------\");\n",
    "Console.WriteLine(1 + 2);\n",
    "Console.WriteLine(1.0 + 2);\n",
    "Console.WriteLine(\"1\" + 2);\n",
    "Console.WriteLine('1' + 2);\n"
   ]
  },
  {
   "cell_type": "markdown",
   "metadata": {},
   "source": [
    "### Operaciones Relacionales y Lógicas"
   ]
  },
  {
   "cell_type": "code",
   "execution_count": 12,
   "metadata": {
    "dotnet_interactive": {
     "language": "csharp"
    },
    "polyglot_notebook": {
     "kernelName": "csharp"
    },
    "vscode": {
     "languageId": "polyglot-notebook"
    }
   },
   "outputs": [
    {
     "name": "stdout",
     "output_type": "stream",
     "text": [
      "False\n",
      "------------\n",
      "True\n",
      "False\n",
      "True\n",
      "False\n",
      "True\n",
      "False\n"
     ]
    }
   ],
   "source": [
    "int numero;\n",
    "bool cincoMayorQueDiez;\n",
    "\n",
    "cincoMayorQueDiez = 5 > 10;\n",
    "Console.WriteLine(cincoMayorQueDiez);\n",
    "Console.WriteLine(\"------------\");\n",
    "Console.WriteLine(5 < 10);\n",
    "Console.WriteLine(5 > 10);\n",
    "Console.WriteLine(5 != 10);\n",
    "Console.WriteLine(5 == 10);\n",
    "Console.WriteLine(10 >= 10);\n",
    "\n",
    "numero = 5;\n",
    "Console.WriteLine(5 < numero);\n",
    "\n"
   ]
  },
  {
   "cell_type": "code",
   "execution_count": 4,
   "metadata": {
    "dotnet_interactive": {
     "language": "csharp"
    },
    "polyglot_notebook": {
     "kernelName": "csharp"
    },
    "vscode": {
     "languageId": "polyglot-notebook"
    }
   },
   "outputs": [
    {
     "name": "stdout",
     "output_type": "stream",
     "text": [
      "int Mínimo -2147483648\n",
      "int Máximo 2147483647\n",
      "long Máximo 9223372036854775807\n"
     ]
    }
   ],
   "source": [
    "Console.WriteLine(\"int Mínimo \"+int.MinValue);\n",
    "Console.WriteLine(\"int Máximo \"+int.MaxValue);\n",
    "\n",
    "Console.WriteLine(\"long Máximo \"+long.MaxValue);"
   ]
  }
 ],
 "metadata": {
  "kernelspec": {
   "display_name": ".NET (C#)",
   "language": "C#",
   "name": ".net-csharp"
  },
  "language_info": {
   "name": "csharp"
  },
  "polyglot_notebook": {
   "kernelInfo": {
    "defaultKernelName": "csharp",
    "items": [
     {
      "aliases": [],
      "name": "csharp"
     }
    ]
   }
  }
 },
 "nbformat": 4,
 "nbformat_minor": 2
}
