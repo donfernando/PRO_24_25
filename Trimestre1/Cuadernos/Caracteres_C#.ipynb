{
 "cells": [
  {
   "cell_type": "markdown",
   "metadata": {},
   "source": [
    "## Constantes de tipo char C#"
   ]
  },
  {
   "cell_type": "markdown",
   "metadata": {},
   "source": [
    "----\n",
    "<br/>\n",
    "Esto son ejemplo de uso del caracter escape (\\) en C#"
   ]
  },
  {
   "cell_type": "code",
   "execution_count": 2,
   "metadata": {
    "dotnet_interactive": {
     "language": "csharp"
    },
    "polyglot_notebook": {
     "kernelName": "csharp"
    },
    "vscode": {
     "languageId": "polyglot-notebook"
    }
   },
   "outputs": [
    {
     "name": "stdout",
     "output_type": "stream",
     "text": [
      "-> <-"
     ]
    }
   ],
   "source": [
    "Console.Write(\"->\");\n",
    "Console.Write(' ');\n",
    "Console.Write(\"<-\");"
   ]
  },
  {
   "cell_type": "code",
   "execution_count": 12,
   "metadata": {
    "vscode": {
     "languageId": "polyglot-notebook"
    }
   },
   "outputs": [
    {
     "name": "stdout",
     "output_type": "stream",
     "text": [
      "->\t<---\n",
      "--->\t<---"
     ]
    }
   ],
   "source": [
    "Console.Write(\"->\");\n",
    "Console.Write('\\t');\n",
    "Console.Write(\"<---\");\n",
    "\n",
    "Console.Write(\"\\n--->\");\n",
    "Console.Write('\\t');\n",
    "Console.Write(\"<---\");"
   ]
  },
  {
   "cell_type": "code",
   "execution_count": 14,
   "metadata": {
    "vscode": {
     "languageId": "polyglot-notebook"
    }
   },
   "outputs": [
    {
     "name": "stdout",
     "output_type": "stream",
     "text": [
      "--->؏2<---"
     ]
    }
   ],
   "source": [
    "Console.Write(\"--->\");\n",
    "Console.Write('\\u060F');\n",
    "Console.Write('\\u0032');\n",
    "Console.Write(\"<---\");"
   ]
  }
 ],
 "metadata": {
  "kernelspec": {
   "display_name": ".NET (C#)",
   "language": "C#",
   "name": ".net-csharp"
  },
  "language_info": {
   "file_extension": ".cs",
   "mimetype": "text/x-csharp",
   "name": "C#",
   "pygments_lexer": "csharp",
   "version": "11.0"
  },
  "polyglot_notebook": {
   "kernelInfo": {
    "defaultKernelName": "csharp",
    "items": [
     {
      "aliases": [],
      "languageName": "csharp",
      "name": "csharp"
     }
    ]
   }
  }
 },
 "nbformat": 4,
 "nbformat_minor": 2
}
